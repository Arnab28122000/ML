{
 "cells": [
  {
   "cell_type": "code",
   "execution_count": 7,
   "metadata": {},
   "outputs": [
    {
     "ename": "SyntaxError",
     "evalue": "invalid syntax (<ipython-input-7-a9526114d081>, line 39)",
     "output_type": "error",
     "traceback": [
      "\u001b[1;36m  File \u001b[1;32m\"<ipython-input-7-a9526114d081>\"\u001b[1;36m, line \u001b[1;32m39\u001b[0m\n\u001b[1;33m    if __name__==\"main\"\u001b[0m\n\u001b[1;37m                       ^\u001b[0m\n\u001b[1;31mSyntaxError\u001b[0m\u001b[1;31m:\u001b[0m invalid syntax\n"
     ]
    }
   ],
   "source": [
    "import numpy as np\n",
    "import matplotlib.pyplot as plt\n",
    "\n",
    "def estimate_coef(x,y):\n",
    "    n=np.size(x)\n",
    "    m_x,m_y=np.mean(x),np.mean(y)\n",
    "    \n",
    "    SS_xy=np.sum(y*x)-n*m_y*m_x\n",
    "    SS_xx=np.sum(x*x)-n*m_x*m_x\n",
    "    \n",
    "    b_1=SS_xy/SS_xx\n",
    "    b_0=m_y-b1*mx\n",
    "    \n",
    "    return(b_0,b_1)\n",
    "\n",
    "def plot_regression_line(x,y,b):\n",
    "    plt.scatter(x,y,color='m',marker='o',s=30)\n",
    "    \n",
    "    y_pred=b[0]+b[1]*x\n",
    "    \n",
    "    plt.plot(x,y_pred,color='g')\n",
    "    \n",
    "    plt.xlabel('x')\n",
    "    plt.ylabel('y')\n",
    "    \n",
    "    plt.show()\n",
    "    \n",
    "    \n",
    "def main():\n",
    "\n",
    "    x=np.array([0,1,2,3,4,5,6,7,8,9])\n",
    "    y=np.array([1,3,5,7,8,8,9,10,12])\n",
    "    \n",
    "    b=estimate_coef(x,y)\n",
    "    print(\"Estimated coefficients:nb_0={}\\\\nb_1={}\".format(b[0],b[1]))\n",
    "    \n",
    "    plot.regression_line(x,y,b)\n",
    "    "
   ]
  },
  {
   "cell_type": "code",
   "execution_count": null,
   "metadata": {},
   "outputs": [],
   "source": []
  },
  {
   "cell_type": "code",
   "execution_count": null,
   "metadata": {},
   "outputs": [],
   "source": []
  },
  {
   "cell_type": "code",
   "execution_count": null,
   "metadata": {},
   "outputs": [],
   "source": []
  }
 ],
 "metadata": {
  "kernelspec": {
   "display_name": "Python 3",
   "language": "python",
   "name": "python3"
  },
  "language_info": {
   "codemirror_mode": {
    "name": "ipython",
    "version": 3
   },
   "file_extension": ".py",
   "mimetype": "text/x-python",
   "name": "python",
   "nbconvert_exporter": "python",
   "pygments_lexer": "ipython3",
   "version": "3.7.4"
  }
 },
 "nbformat": 4,
 "nbformat_minor": 2
}
